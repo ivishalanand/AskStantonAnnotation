{
 "cells": [
  {
   "cell_type": "code",
   "execution_count": 6,
   "id": "a7c8bb71",
   "metadata": {},
   "outputs": [],
   "source": [
    "import httpx\n",
    "LANGFUSE_PUBLIC_KEY = \"pk-lf-f6ea7cfd-fb41-4ee5-813e-8152763a5762\"\n",
    "LANGFUSE_SECRET_KEY = \"sk-lf-ff29c0d1-50fd-413b-bfb1-136e4782e9d3\""
   ]
  },
  {
   "cell_type": "code",
   "execution_count": 7,
   "id": "9b1589a7",
   "metadata": {},
   "outputs": [],
   "source": [
    "import base64\n",
    "\n",
    "auth_string = f\"{LANGFUSE_PUBLIC_KEY}:{LANGFUSE_SECRET_KEY}\"\n",
    "auth_bytes = auth_string.encode('ascii')\n",
    "auth_b64 = base64.b64encode(auth_bytes).decode('ascii')\n",
    "\n"
   ]
  },
  {
   "cell_type": "code",
   "execution_count": 8,
   "id": "dbad9912",
   "metadata": {},
   "outputs": [
    {
     "data": {
      "text/plain": [
       "[{'id': 'cmfgu6usw000cad0740htzljh',\n",
       "  'name': 'COMMENT-trace',\n",
       "  'isArchived': False,\n",
       "  'description': 'Comment for traces.',\n",
       "  'createdAt': '2025-09-12T12:51:52.304Z',\n",
       "  'updatedAt': '2025-09-12T12:51:52.304Z',\n",
       "  'projectId': 'cmaxr5f6h002bad07s9drmhxz',\n",
       "  'maxValue': None,\n",
       "  'minValue': None,\n",
       "  'dataType': 'BOOLEAN',\n",
       "  'categories': [{'label': 'True', 'value': 1},\n",
       "   {'label': 'False', 'value': 0}]},\n",
       " {'id': 'cmffmtkbk0008ad07kxfsb0j1',\n",
       "  'name': 'Categorical_config',\n",
       "  'isArchived': False,\n",
       "  'description': 'Categorical config description',\n",
       "  'createdAt': '2025-09-11T16:37:48.705Z',\n",
       "  'updatedAt': '2025-09-11T16:37:48.705Z',\n",
       "  'projectId': 'cmaxr5f6h002bad07s9drmhxz',\n",
       "  'maxValue': None,\n",
       "  'minValue': None,\n",
       "  'dataType': 'CATEGORICAL',\n",
       "  'categories': [{'label': 'Cat1', 'value': 0},\n",
       "   {'label': 'Cat2', 'value': 1},\n",
       "   {'label': 'Cat3', 'value': 2}]},\n",
       " {'id': 'cmffmsrir00e7ad0673fissue',\n",
       "  'name': 'Numeric_config',\n",
       "  'isArchived': False,\n",
       "  'description': 'Numerical config description',\n",
       "  'createdAt': '2025-09-11T16:37:11.379Z',\n",
       "  'updatedAt': '2025-09-11T16:37:11.379Z',\n",
       "  'projectId': 'cmaxr5f6h002bad07s9drmhxz',\n",
       "  'maxValue': 100,\n",
       "  'minValue': 0,\n",
       "  'dataType': 'NUMERIC',\n",
       "  'categories': None},\n",
       " {'id': 'cmffms9rd004kad06b6w3gn1t',\n",
       "  'name': 'Boolean_config',\n",
       "  'isArchived': False,\n",
       "  'description': 'test boolean Description',\n",
       "  'createdAt': '2025-09-11T16:36:48.361Z',\n",
       "  'updatedAt': '2025-09-11T16:36:48.361Z',\n",
       "  'projectId': 'cmaxr5f6h002bad07s9drmhxz',\n",
       "  'maxValue': None,\n",
       "  'minValue': None,\n",
       "  'dataType': 'BOOLEAN',\n",
       "  'categories': [{'label': 'True', 'value': 1},\n",
       "   {'label': 'False', 'value': 0}]}]"
      ]
     },
     "execution_count": 8,
     "metadata": {},
     "output_type": "execute_result"
    }
   ],
   "source": [
    "# Get all score configs\n",
    "async with httpx.AsyncClient() as client:\n",
    "    response = await client.get(\n",
    "        \"https://us.cloud.langfuse.com/api/public/score-configs\",\n",
    "        headers={\n",
    "            \"Authorization\": f\"Basic {auth_b64}\"\n",
    "        },\n",
    "        params={\n",
    "            \"page\": 1,\n",
    "            \"limit\": None\n",
    "        }\n",
    "    )\n",
    "    score_configs = response.json()\n",
    "\n",
    "# Filter only non-archived score configs\n",
    "active_score_configs = [config for config in score_configs['data'] if config['isArchived'] == False]\n",
    "active_score_configs"
   ]
  },
  {
   "cell_type": "code",
   "execution_count": 15,
   "id": "3712d302",
   "metadata": {},
   "outputs": [
    {
     "data": {
      "text/plain": [
       "{'id': '550abbf4-9252-4a59-9359-25fd55534f91'}"
      ]
     },
     "execution_count": 15,
     "metadata": {},
     "output_type": "execute_result"
    }
   ],
   "source": [
    "import asyncio\n",
    "trace_id = \"e4d9782a-5e27-4adc-85d0-74d0822f7a2f\"\n",
    "comment_text =  \"This is a test comment for the trace\"\n",
    "async with httpx.AsyncClient() as client:\n",
    "    response = await client.post(\n",
    "        \"https://us.cloud.langfuse.com/api/public/scores\",\n",
    "        headers={\n",
    "            \"Authorization\": f\"Basic {auth_b64}\",\n",
    "            \"Content-Type\": \"application/json\"\n",
    "        },\n",
    "        json={\n",
    "            \"traceId\": trace_id,                              # trace you’re scoring\n",
    "            \"configId\": \"cmfgu6usw000cad0740htzljh\",          # COMMENT-trace config\n",
    "            \"name\": \"COMMENT-trace\",                  # required string\n",
    "            \"value\": 1,                                       # 1=True, 0=False\n",
    "            \"comment\": comment_text                           # free text\n",
    "        }\n",
    "    )\n",
    "\n",
    "response.json()"
   ]
  },
  {
   "cell_type": "code",
   "execution_count": null,
   "id": "80528e51",
   "metadata": {},
   "outputs": [],
   "source": []
  }
 ],
 "metadata": {
  "kernelspec": {
   "display_name": ".venv",
   "language": "python",
   "name": "python3"
  },
  "language_info": {
   "codemirror_mode": {
    "name": "ipython",
    "version": 3
   },
   "file_extension": ".py",
   "mimetype": "text/x-python",
   "name": "python",
   "nbconvert_exporter": "python",
   "pygments_lexer": "ipython3",
   "version": "3.12.11"
  }
 },
 "nbformat": 4,
 "nbformat_minor": 5
}
