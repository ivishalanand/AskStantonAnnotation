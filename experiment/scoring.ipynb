{
 "cells": [
  {
   "cell_type": "code",
   "execution_count": 2,
   "id": "6459621f",
   "metadata": {},
   "outputs": [],
   "source": [
    "import httpx\n",
    "LANGFUSE_PUBLIC_KEY = \"pk-lf-f6ea7cfd-fb41-4ee5-813e-8152763a5762\"\n",
    "LANGFUSE_SECRET_KEY = \"sk-lf-ff29c0d1-50fd-413b-bfb1-136e4782e9d3\""
   ]
  },
  {
   "cell_type": "code",
   "execution_count": 3,
   "id": "87025d35",
   "metadata": {},
   "outputs": [],
   "source": [
    "#Get all annotation queues\n",
    "\n",
    "import base64\n",
    "\n",
    "# Create Basic auth header\n",
    "auth_string = f\"{LANGFUSE_PUBLIC_KEY}:{LANGFUSE_SECRET_KEY}\"\n",
    "auth_bytes = auth_string.encode('ascii')\n",
    "auth_b64 = base64.b64encode(auth_bytes).decode('ascii')\n",
    "\n",
    "async with httpx.AsyncClient() as client:\n",
    "    response = await client.get(\n",
    "        \"https://us.cloud.langfuse.com/api/public/annotation-queues\",\n",
    "        headers={\n",
    "            \"Authorization\": f\"Basic {auth_b64}\"\n",
    "        },\n",
    "        params={\n",
    "            \"page\": 1,\n",
    "            \"limit\": None  # Use None instead of \"null\" string\n",
    "        }\n",
    "    )\n",
    "    response_json = response.json()"
   ]
  },
  {
   "cell_type": "code",
   "execution_count": 4,
   "id": "0c24f02d",
   "metadata": {},
   "outputs": [
    {
     "data": {
      "text/plain": [
       "{'data': [{'id': 'cmccb2ym402tpad07asml1mb7',\n",
       "   'name': 'test - vishal',\n",
       "   'description': None,\n",
       "   'scoreConfigIds': ['cmbhj8097049kad0763m80muh',\n",
       "    'cmbwd9hk302riad07n5n2jlvq'],\n",
       "   'createdAt': '2025-06-25T18:46:46.205Z',\n",
       "   'updatedAt': '2025-09-10T04:33:53.169Z'},\n",
       "  {'id': 'cmb7albrq0eodad075gmi1vrd',\n",
       "   'name': 'test-queue-01',\n",
       "   'description': None,\n",
       "   'scoreConfigIds': ['cmbhj8097049kad0763m80muh',\n",
       "    'cmb59k48v00hqad07e7dvolfn'],\n",
       "   'createdAt': '2025-05-28T01:54:30.230Z',\n",
       "   'updatedAt': '2025-06-04T06:03:54.831Z'}],\n",
       " 'meta': {'page': 1, 'limit': 50, 'totalItems': 2, 'totalPages': 1}}"
      ]
     },
     "execution_count": 4,
     "metadata": {},
     "output_type": "execute_result"
    }
   ],
   "source": [
    "response_json"
   ]
  },
  {
   "cell_type": "code",
   "execution_count": null,
   "id": "1bc27c93",
   "metadata": {},
   "outputs": [],
   "source": []
  },
  {
   "cell_type": "code",
   "execution_count": null,
   "id": "4c1029amcjk",
   "metadata": {},
   "outputs": [
    {
     "data": {
      "text/plain": [
       "{'data': [{'id': 'cmffmtkbk0008ad07kxfsb0j1',\n",
       "   'name': 'Categorical_config',\n",
       "   'isArchived': False,\n",
       "   'description': 'Categorical config description',\n",
       "   'createdAt': '2025-09-11T16:37:48.705Z',\n",
       "   'updatedAt': '2025-09-11T16:37:48.705Z',\n",
       "   'projectId': 'cmaxr5f6h002bad07s9drmhxz',\n",
       "   'maxValue': None,\n",
       "   'minValue': None,\n",
       "   'dataType': 'CATEGORICAL',\n",
       "   'categories': [{'label': 'Cat1', 'value': 0},\n",
       "    {'label': 'Cat2', 'value': 1},\n",
       "    {'label': 'Cat3', 'value': 2}]},\n",
       "  {'id': 'cmffmsrir00e7ad0673fissue',\n",
       "   'name': 'Numeric_config',\n",
       "   'isArchived': False,\n",
       "   'description': 'Numerical config description',\n",
       "   'createdAt': '2025-09-11T16:37:11.379Z',\n",
       "   'updatedAt': '2025-09-11T16:37:11.379Z',\n",
       "   'projectId': 'cmaxr5f6h002bad07s9drmhxz',\n",
       "   'maxValue': 100,\n",
       "   'minValue': 0,\n",
       "   'dataType': 'NUMERIC',\n",
       "   'categories': None},\n",
       "  {'id': 'cmffms9rd004kad06b6w3gn1t',\n",
       "   'name': 'Boolean_config',\n",
       "   'isArchived': False,\n",
       "   'description': 'test boolean Description',\n",
       "   'createdAt': '2025-09-11T16:36:48.361Z',\n",
       "   'updatedAt': '2025-09-11T16:36:48.361Z',\n",
       "   'projectId': 'cmaxr5f6h002bad07s9drmhxz',\n",
       "   'maxValue': None,\n",
       "   'minValue': None,\n",
       "   'dataType': 'BOOLEAN',\n",
       "   'categories': [{'label': 'True', 'value': 1},\n",
       "    {'label': 'False', 'value': 0}]},\n",
       "  {'id': 'cmbwd9hk302riad07n5n2jlvq',\n",
       "   'name': 'Overall quality score',\n",
       "   'isArchived': True,\n",
       "   'description': 'General quality score for LLM response. \\nBad = needs attention, not acceptable, broken, confusing.\\nNeutral = response could be better but is acceptable\\nGood = response ranges from good to perfect',\n",
       "   'createdAt': '2025-06-14T15:03:31.107Z',\n",
       "   'updatedAt': '2025-09-11T16:38:28.688Z',\n",
       "   'projectId': 'cmaxr5f6h002bad07s9drmhxz',\n",
       "   'maxValue': None,\n",
       "   'minValue': None,\n",
       "   'dataType': 'CATEGORICAL',\n",
       "   'categories': [{'label': 'Bad', 'value': 0},\n",
       "    {'label': 'Neutral', 'value': 1},\n",
       "    {'label': 'Good', 'value': 2}]},\n",
       "  {'id': 'cmbhj8097049kad0763m80muh',\n",
       "   'name': 'Pass-fail',\n",
       "   'isArchived': True,\n",
       "   'description': None,\n",
       "   'createdAt': '2025-06-04T05:53:47.084Z',\n",
       "   'updatedAt': '2025-09-11T16:38:09.991Z',\n",
       "   'projectId': 'cmaxr5f6h002bad07s9drmhxz',\n",
       "   'maxValue': None,\n",
       "   'minValue': None,\n",
       "   'dataType': 'CATEGORICAL',\n",
       "   'categories': [{'label': 'Fail', 'value': 0},\n",
       "    {'label': 'Pass', 'value': 1}]},\n",
       "  {'id': 'cmb59k48v00hqad07e7dvolfn',\n",
       "   'name': 'test',\n",
       "   'isArchived': True,\n",
       "   'description': 'test score config',\n",
       "   'createdAt': '2025-05-26T15:50:01.855Z',\n",
       "   'updatedAt': '2025-06-14T15:03:48.636Z',\n",
       "   'projectId': 'cmaxr5f6h002bad07s9drmhxz',\n",
       "   'maxValue': None,\n",
       "   'minValue': None,\n",
       "   'dataType': 'NUMERIC',\n",
       "   'categories': None}],\n",
       " 'meta': {'page': 1, 'limit': 50, 'totalItems': 6, 'totalPages': 1}}"
      ]
     },
     "execution_count": 7,
     "metadata": {},
     "output_type": "execute_result"
    }
   ],
   "source": [
    "# Get all score configs\n",
    "async with httpx.AsyncClient() as client:\n",
    "    response = await client.get(\n",
    "        \"https://us.cloud.langfuse.com/api/public/score-configs\",\n",
    "        headers={\n",
    "            \"Authorization\": f\"Basic {auth_b64}\"\n",
    "        },\n",
    "        params={\n",
    "            \"page\": 1,/\n",
    "            \"limit\": None\n",
    "        }\n",
    "    )\n",
    "    score_configs = response.json()\n",
    "\n",
    "score_configs"
   ]
  },
  {
   "cell_type": "code",
   "execution_count": 8,
   "id": "jsbqqlv8szp",
   "metadata": {},
   "outputs": [
    {
     "data": {
      "text/plain": [
       "[{'id': 'cmffmtkbk0008ad07kxfsb0j1',\n",
       "  'name': 'Categorical_config',\n",
       "  'isArchived': False,\n",
       "  'description': 'Categorical config description',\n",
       "  'createdAt': '2025-09-11T16:37:48.705Z',\n",
       "  'updatedAt': '2025-09-11T16:37:48.705Z',\n",
       "  'projectId': 'cmaxr5f6h002bad07s9drmhxz',\n",
       "  'maxValue': None,\n",
       "  'minValue': None,\n",
       "  'dataType': 'CATEGORICAL',\n",
       "  'categories': [{'label': 'Cat1', 'value': 0},\n",
       "   {'label': 'Cat2', 'value': 1},\n",
       "   {'label': 'Cat3', 'value': 2}]},\n",
       " {'id': 'cmffmsrir00e7ad0673fissue',\n",
       "  'name': 'Numeric_config',\n",
       "  'isArchived': False,\n",
       "  'description': 'Numerical config description',\n",
       "  'createdAt': '2025-09-11T16:37:11.379Z',\n",
       "  'updatedAt': '2025-09-11T16:37:11.379Z',\n",
       "  'projectId': 'cmaxr5f6h002bad07s9drmhxz',\n",
       "  'maxValue': 100,\n",
       "  'minValue': 0,\n",
       "  'dataType': 'NUMERIC',\n",
       "  'categories': None},\n",
       " {'id': 'cmffms9rd004kad06b6w3gn1t',\n",
       "  'name': 'Boolean_config',\n",
       "  'isArchived': False,\n",
       "  'description': 'test boolean Description',\n",
       "  'createdAt': '2025-09-11T16:36:48.361Z',\n",
       "  'updatedAt': '2025-09-11T16:36:48.361Z',\n",
       "  'projectId': 'cmaxr5f6h002bad07s9drmhxz',\n",
       "  'maxValue': None,\n",
       "  'minValue': None,\n",
       "  'dataType': 'BOOLEAN',\n",
       "  'categories': [{'label': 'True', 'value': 1},\n",
       "   {'label': 'False', 'value': 0}]}]"
      ]
     },
     "execution_count": 8,
     "metadata": {},
     "output_type": "execute_result"
    }
   ],
   "source": [
    "# Filter only non-archived score configs\n",
    "active_score_configs = [config for config in score_configs['data'] if config['isArchived'] == False]\n",
    "active_score_configs"
   ]
  },
  {
   "cell_type": "code",
   "execution_count": null,
   "id": "f6787ffb",
   "metadata": {},
   "outputs": [],
   "source": []
  }
 ],
 "metadata": {
  "kernelspec": {
   "display_name": ".venv",
   "language": "python",
   "name": "python3"
  },
  "language_info": {
   "codemirror_mode": {
    "name": "ipython",
    "version": 3
   },
   "file_extension": ".py",
   "mimetype": "text/x-python",
   "name": "python",
   "nbconvert_exporter": "python",
   "pygments_lexer": "ipython3",
   "version": "3.12.11"
  }
 },
 "nbformat": 4,
 "nbformat_minor": 5
}
