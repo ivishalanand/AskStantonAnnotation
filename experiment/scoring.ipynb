{
 "cells": [
  {
   "cell_type": "code",
   "execution_count": 12,
   "id": "6459621f",
   "metadata": {},
   "outputs": [],
   "source": [
    "import httpx\n",
    "LANGFUSE_PUBLIC_KEY = \"pk-lf-f6ea7cfd-fb41-4ee5-813e-8152763a5762\"\n",
    "LANGFUSE_SECRET_KEY = \"sk-lf-ff29c0d1-50fd-413b-bfb1-136e4782e9d3\""
   ]
  },
  {
   "cell_type": "code",
   "execution_count": 13,
   "id": "0dcca413",
   "metadata": {},
   "outputs": [],
   "source": [
    "import base64\n",
    "\n",
    "auth_string = f\"{LANGFUSE_PUBLIC_KEY}:{LANGFUSE_SECRET_KEY}\"\n",
    "auth_bytes = auth_string.encode('ascii')\n",
    "auth_b64 = base64.b64encode(auth_bytes).decode('ascii')\n",
    "\n"
   ]
  },
  {
   "cell_type": "code",
   "execution_count": 14,
   "id": "4c1029amcjk",
   "metadata": {},
   "outputs": [
    {
     "data": {
      "text/plain": [
       "{'data': [{'id': 'cmffmtkbk0008ad07kxfsb0j1',\n",
       "   'name': 'Categorical_config',\n",
       "   'isArchived': False,\n",
       "   'description': 'Categorical config description',\n",
       "   'createdAt': '2025-09-11T16:37:48.705Z',\n",
       "   'updatedAt': '2025-09-11T16:37:48.705Z',\n",
       "   'projectId': 'cmaxr5f6h002bad07s9drmhxz',\n",
       "   'maxValue': None,\n",
       "   'minValue': None,\n",
       "   'dataType': 'CATEGORICAL',\n",
       "   'categories': [{'label': 'Cat1', 'value': 0},\n",
       "    {'label': 'Cat2', 'value': 1},\n",
       "    {'label': 'Cat3', 'value': 2}]},\n",
       "  {'id': 'cmffmsrir00e7ad0673fissue',\n",
       "   'name': 'Numeric_config',\n",
       "   'isArchived': False,\n",
       "   'description': 'Numerical config description',\n",
       "   'createdAt': '2025-09-11T16:37:11.379Z',\n",
       "   'updatedAt': '2025-09-11T16:37:11.379Z',\n",
       "   'projectId': 'cmaxr5f6h002bad07s9drmhxz',\n",
       "   'maxValue': 100,\n",
       "   'minValue': 0,\n",
       "   'dataType': 'NUMERIC',\n",
       "   'categories': None},\n",
       "  {'id': 'cmffms9rd004kad06b6w3gn1t',\n",
       "   'name': 'Boolean_config',\n",
       "   'isArchived': False,\n",
       "   'description': 'test boolean Description',\n",
       "   'createdAt': '2025-09-11T16:36:48.361Z',\n",
       "   'updatedAt': '2025-09-11T16:36:48.361Z',\n",
       "   'projectId': 'cmaxr5f6h002bad07s9drmhxz',\n",
       "   'maxValue': None,\n",
       "   'minValue': None,\n",
       "   'dataType': 'BOOLEAN',\n",
       "   'categories': [{'label': 'True', 'value': 1},\n",
       "    {'label': 'False', 'value': 0}]},\n",
       "  {'id': 'cmbwd9hk302riad07n5n2jlvq',\n",
       "   'name': 'Overall quality score',\n",
       "   'isArchived': True,\n",
       "   'description': 'General quality score for LLM response. \\nBad = needs attention, not acceptable, broken, confusing.\\nNeutral = response could be better but is acceptable\\nGood = response ranges from good to perfect',\n",
       "   'createdAt': '2025-06-14T15:03:31.107Z',\n",
       "   'updatedAt': '2025-09-11T16:38:28.688Z',\n",
       "   'projectId': 'cmaxr5f6h002bad07s9drmhxz',\n",
       "   'maxValue': None,\n",
       "   'minValue': None,\n",
       "   'dataType': 'CATEGORICAL',\n",
       "   'categories': [{'label': 'Bad', 'value': 0},\n",
       "    {'label': 'Neutral', 'value': 1},\n",
       "    {'label': 'Good', 'value': 2}]},\n",
       "  {'id': 'cmbhj8097049kad0763m80muh',\n",
       "   'name': 'Pass-fail',\n",
       "   'isArchived': True,\n",
       "   'description': None,\n",
       "   'createdAt': '2025-06-04T05:53:47.084Z',\n",
       "   'updatedAt': '2025-09-11T16:38:09.991Z',\n",
       "   'projectId': 'cmaxr5f6h002bad07s9drmhxz',\n",
       "   'maxValue': None,\n",
       "   'minValue': None,\n",
       "   'dataType': 'CATEGORICAL',\n",
       "   'categories': [{'label': 'Fail', 'value': 0},\n",
       "    {'label': 'Pass', 'value': 1}]},\n",
       "  {'id': 'cmb59k48v00hqad07e7dvolfn',\n",
       "   'name': 'test',\n",
       "   'isArchived': True,\n",
       "   'description': 'test score config',\n",
       "   'createdAt': '2025-05-26T15:50:01.855Z',\n",
       "   'updatedAt': '2025-06-14T15:03:48.636Z',\n",
       "   'projectId': 'cmaxr5f6h002bad07s9drmhxz',\n",
       "   'maxValue': None,\n",
       "   'minValue': None,\n",
       "   'dataType': 'NUMERIC',\n",
       "   'categories': None}],\n",
       " 'meta': {'page': 1, 'limit': 50, 'totalItems': 6, 'totalPages': 1}}"
      ]
     },
     "execution_count": 14,
     "metadata": {},
     "output_type": "execute_result"
    }
   ],
   "source": [
    "# Get all score configs\n",
    "async with httpx.AsyncClient() as client:\n",
    "    response = await client.get(\n",
    "        \"https://us.cloud.langfuse.com/api/public/score-configs\",\n",
    "        headers={\n",
    "            \"Authorization\": f\"Basic {auth_b64}\"\n",
    "        },\n",
    "        params={\n",
    "            \"page\": 1,\n",
    "            \"limit\": None\n",
    "        }\n",
    "    )\n",
    "    score_configs = response.json()\n",
    "\n",
    "score_configs"
   ]
  },
  {
   "cell_type": "code",
   "execution_count": 15,
   "id": "jsbqqlv8szp",
   "metadata": {},
   "outputs": [
    {
     "data": {
      "text/plain": [
       "[{'id': 'cmffmtkbk0008ad07kxfsb0j1',\n",
       "  'name': 'Categorical_config',\n",
       "  'isArchived': False,\n",
       "  'description': 'Categorical config description',\n",
       "  'createdAt': '2025-09-11T16:37:48.705Z',\n",
       "  'updatedAt': '2025-09-11T16:37:48.705Z',\n",
       "  'projectId': 'cmaxr5f6h002bad07s9drmhxz',\n",
       "  'maxValue': None,\n",
       "  'minValue': None,\n",
       "  'dataType': 'CATEGORICAL',\n",
       "  'categories': [{'label': 'Cat1', 'value': 0},\n",
       "   {'label': 'Cat2', 'value': 1},\n",
       "   {'label': 'Cat3', 'value': 2}]},\n",
       " {'id': 'cmffmsrir00e7ad0673fissue',\n",
       "  'name': 'Numeric_config',\n",
       "  'isArchived': False,\n",
       "  'description': 'Numerical config description',\n",
       "  'createdAt': '2025-09-11T16:37:11.379Z',\n",
       "  'updatedAt': '2025-09-11T16:37:11.379Z',\n",
       "  'projectId': 'cmaxr5f6h002bad07s9drmhxz',\n",
       "  'maxValue': 100,\n",
       "  'minValue': 0,\n",
       "  'dataType': 'NUMERIC',\n",
       "  'categories': None},\n",
       " {'id': 'cmffms9rd004kad06b6w3gn1t',\n",
       "  'name': 'Boolean_config',\n",
       "  'isArchived': False,\n",
       "  'description': 'test boolean Description',\n",
       "  'createdAt': '2025-09-11T16:36:48.361Z',\n",
       "  'updatedAt': '2025-09-11T16:36:48.361Z',\n",
       "  'projectId': 'cmaxr5f6h002bad07s9drmhxz',\n",
       "  'maxValue': None,\n",
       "  'minValue': None,\n",
       "  'dataType': 'BOOLEAN',\n",
       "  'categories': [{'label': 'True', 'value': 1},\n",
       "   {'label': 'False', 'value': 0}]}]"
      ]
     },
     "execution_count": 15,
     "metadata": {},
     "output_type": "execute_result"
    }
   ],
   "source": [
    "# Filter only non-archived score configs\n",
    "active_score_configs = [config for config in score_configs['data'] if config['isArchived'] == False]\n",
    "active_score_configs"
   ]
  },
  {
   "cell_type": "code",
   "execution_count": 19,
   "id": "f6787ffb",
   "metadata": {},
   "outputs": [],
   "source": [
    "# Function to send a comment using the API\n",
    "async def send_comment(project_id, object_id, object_type, content, author_user_id=None):\n",
    "    \"\"\"\n",
    "    Send a comment to the Langfuse API\n",
    "    \n",
    "    Args:\n",
    "        project_id (str): The project ID \n",
    "        object_id (str): The ID of the object to attach the comment to\n",
    "        object_type (str): The type of object (trace, observation, session, prompt)\n",
    "        content (str): The comment content (max 3000 characters)\n",
    "        author_user_id (str, optional): The user ID who created the comment\n",
    "    \n",
    "    Returns:\n",
    "        dict: API response\n",
    "    \"\"\"\n",
    "    async with httpx.AsyncClient() as client:\n",
    "        response = await client.post(\n",
    "            \"https://us.cloud.langfuse.com/api/public/comments\",\n",
    "            headers={\n",
    "                \"Content-Type\": \"application/json\",\n",
    "                \"Authorization\": f\"Basic {auth_b64}\"\n",
    "            },\n",
    "            json={\n",
    "                \"projectId\": project_id,\n",
    "                \"objectType\": object_type,\n",
    "                \"objectId\": object_id,\n",
    "                \"content\": content,\n",
    "                \"authorUserId\": author_user_id\n",
    "            }\n",
    "        )\n",
    "        return response.json(), response.status_code"
   ]
  },
  {
   "cell_type": "code",
   "execution_count": 21,
   "id": "01prfeg3hxqv",
   "metadata": {},
   "outputs": [
    {
     "name": "stdout",
     "output_type": "stream",
     "text": [
      "Status Code: 200\n",
      "Response: {'id': '226c00bb-17b5-404d-8a05-237dc666ec0a'}\n"
     ]
    }
   ],
   "source": [
    "# Example usage - send a comment\n",
    "project_id = \"cmaxr5f6h002bad07s9drmhxz\"  # Using the project ID from the score configs\n",
    "example_object_id = \"4f3790c7-f852-4496-9d66-3eff841e15ef\"  # Replace with actual object ID\n",
    "example_object_type = \"SESSION\"  # Can be trace, observation, session, or prompt\n",
    "example_content = \"This is a test comment sent via the API\"\n",
    "\n",
    "# Send the comment\n",
    "response_data, status_code = await send_comment(\n",
    "    project_id=project_id,\n",
    "    object_id=example_object_id,\n",
    "    object_type=example_object_type,\n",
    "    content=example_content\n",
    ")\n",
    "\n",
    "print(f\"Status Code: {status_code}\")\n",
    "print(f\"Response: {response_data}\")"
   ]
  },
  {
   "cell_type": "code",
   "execution_count": null,
   "id": "d225d6a6",
   "metadata": {},
   "outputs": [],
   "source": []
  }
 ],
 "metadata": {
  "kernelspec": {
   "display_name": ".venv",
   "language": "python",
   "name": "python3"
  },
  "language_info": {
   "codemirror_mode": {
    "name": "ipython",
    "version": 3
   },
   "file_extension": ".py",
   "mimetype": "text/x-python",
   "name": "python",
   "nbconvert_exporter": "python",
   "pygments_lexer": "ipython3",
   "version": "3.12.11"
  }
 },
 "nbformat": 4,
 "nbformat_minor": 5
}
